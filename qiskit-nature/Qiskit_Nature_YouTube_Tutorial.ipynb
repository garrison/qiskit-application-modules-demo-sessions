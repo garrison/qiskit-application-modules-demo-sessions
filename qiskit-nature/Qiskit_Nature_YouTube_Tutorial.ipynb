{
 "cells": [
  {
   "cell_type": "markdown",
   "id": "ff948ed9",
   "metadata": {
    "slideshow": {
     "slide_type": "slide"
    }
   },
   "source": [
    "# Qiskit Nature"
   ]
  },
  {
   "cell_type": "markdown",
   "id": "9d31a5cc",
   "metadata": {
    "slideshow": {
     "slide_type": "fragment"
    }
   },
   "source": [
    "Qiskit Nature is the application module dealing with problems in _natural sciences_.\n",
    "Its goal is to provide end-user oriented modules which enable the fast solution of problems in _chemistry_, _physics_ and _biology_.\n",
    "\n",
    "In general, any application is split into **Problems** and **Solvers** which are combined like so:\n",
    "<img src=\"Nature_YT_Workflow.svg\"/>\n",
    "This modular approach permits the reusability of a solver for multiple problems."
   ]
  },
  {
   "cell_type": "markdown",
   "id": "aaf621a7",
   "metadata": {
    "slideshow": {
     "slide_type": "slide"
    }
   },
   "source": [
    "Nature currently provides the following problems and solvers:\n",
    "\n",
    "- **Problems**:\n",
    "    - `ElectronicStructureProblem`\n",
    "    - `VibrationalStructureProblem`\n",
    "    - `ProteinFoldingProblem`\n",
    "    \n",
    "- **Solvers**:\n",
    "    - `GroundStateEigensolver` (wraps Terra's `MinimumEigensolver`)\n",
    "    - `AdaptVQE`\n",
    "    - `ExcitedStatesEigensolver` (wraps Terra's `Eigensolver`)\n",
    "    - `QEOM`\n",
    "    - `BopesSampler`"
   ]
  },
  {
   "cell_type": "markdown",
   "id": "374e4fc5",
   "metadata": {
    "slideshow": {
     "slide_type": "slide"
    }
   },
   "source": [
    "Depending on your actual application, the internals of your problem can take different forms.\n",
    "For example, the `ElectronicStructureProblem` (which we will be discussing today) looks like this:\n",
    "<img src=\"Nature_YT_ElectronicStructureProblem.svg\"/>"
   ]
  },
  {
   "cell_type": "markdown",
   "id": "2880ee4c",
   "metadata": {
    "slideshow": {
     "slide_type": "slide"
    }
   },
   "source": [
    "A similar modularity exists for the solvers. Generally these are provided by the `qiskit_nature.algorihtms` module which provide convenient wrappers of the actual algorithms implement in Qiskit Terra.\n",
    "Here is an example of the `GroundStateEigensolver` which we will be looking at today:\n",
    "<img src=\"Nature_YT_GroundStateEigensolver.svg\"/>"
   ]
  },
  {
   "cell_type": "markdown",
   "id": "968a3c81",
   "metadata": {
    "slideshow": {
     "slide_type": "slide"
    }
   },
   "source": [
    "## Electronic Structure"
   ]
  },
  {
   "cell_type": "markdown",
   "id": "dc5d79ed",
   "metadata": {
    "slideshow": {
     "slide_type": "fragment"
    }
   },
   "source": [
    "Let us now dive into the `ElectronicStructureProblem`. First, to cover some basics, let us talk about the general molecular Hamiltonian,\n",
    "\n",
    "$$\n",
    "\\mathcal{H} = - \\sum_I \\frac{\\nabla_{R_I}^2}{M_I} - \\sum_i \\frac{\\nabla_{r_i}^2}{m_e} - \\sum_I\\sum_i  \\frac{Z_I e^2}{|R_I-r_i|} + \\sum_i \\sum_{j>i} \\frac{e^2}{|r_i-r_j|} + \\sum_I\\sum_{J>I} \\frac{Z_I Z_J e^2}{|R_I-R_J|}\n",
    "$$\n",
    "\n",
    "From left to right these summands are:\n",
    "- the nuclear kinetic energy\n",
    "- the electronic kinetic energy\n",
    "- the nuclei-electron attraction energy\n",
    "- the electronic repulsion energy\n",
    "- the nuclear repulsion energy"
   ]
  },
  {
   "cell_type": "markdown",
   "id": "955a241b",
   "metadata": {
    "slideshow": {
     "slide_type": "slide"
    }
   },
   "source": [
    "Since the nuclei are much heavier than the electrons they do not move on the same time scale and, thus, the behavior of nuclei and electrons can be decoupled. This is known as the _Born-Oppenheimer approximation_."
   ]
  },
  {
   "cell_type": "markdown",
   "id": "942dc144",
   "metadata": {
    "slideshow": {
     "slide_type": "fragment"
    }
   },
   "source": [
    "In practive this allows us to tackle the electronic problem first, with the nuclear coordinates entering merely as constant parameters. This gives us the _non-relativistic time-independent Schroedinger equation_:\n",
    "\n",
    "$$\n",
    "\\mathcal{H}_{\\text{el}} |\\Psi_{n}\\rangle = E_{n} |\\Psi_{n}\\rangle\n",
    "$$\n",
    "\n",
    "where \n",
    "\n",
    "$$\n",
    "\\mathcal{H}_{\\text{el}} = - \\sum_i \\frac{\\nabla_{r_i}^2}{m_e} - \\sum_I\\sum_i  \\frac{Z_I e^2}{|R_I-r_i|} + \\sum_i \\sum_{j>i} \\frac{e^2}{|r_i-r_j|}.\n",
    "$$"
   ]
  },
  {
   "cell_type": "markdown",
   "id": "4427023c",
   "metadata": {
    "slideshow": {
     "slide_type": "fragment"
    }
   },
   "source": [
    "In particular the ground state energy is given by:\n",
    "$$\n",
    "E_0 = \\frac{\\langle \\Psi_0 | H_{\\text{el}} | \\Psi_0 \\rangle}{\\langle \\Psi_0 | \\Psi_0 \\rangle}\n",
    "$$\n",
    "where $\\Psi_0$ is the ground state of the system."
   ]
  },
  {
   "cell_type": "markdown",
   "id": "27b779fe",
   "metadata": {
    "slideshow": {
     "slide_type": "notes"
    }
   },
   "source": [
    "In order to solve this problem we must prepare the state $\\Psi_0$ on a quantum computer.\n",
    "\n",
    "A good starting point to do this, is to start from the solution based on the Hartree-Fock (HF) method which approxmates the N-body problem with $N$ 1-body problems.\n",
    "This can be solved efficiently on a classical computer and results in the exact exchange energy of the electrons but lacks any correlation interactions.\n",
    "\n",
    "Thus, with our quantum-computing algorithm we aim at correcting the HF-estimate by adding the missing correlation."
   ]
  },
  {
   "cell_type": "markdown",
   "id": "5d515bc0",
   "metadata": {
    "slideshow": {
     "slide_type": "slide"
    }
   },
   "source": [
    "### Second Quantization\n",
    "\n",
    "Up until now we have used the so-called _first quantization_ notation. However, in Qiskit we more commonly express our problems in the _second quantization_ form.\n",
    "This notation allows us to write our Hamiltonian as a weighted sum of **creation** and **annihilation** operator products.\n",
    "\n",
    "Thus, our Hamiltonian takes the form:\n",
    "\n",
    "$$\n",
    "\\hat{H}_{elec}=\\sum_{pq} h_{pq} \\hat{a}^{\\dagger}_p \\hat{a}_q + \n",
    "\\frac{1}{2} \\sum_{pqrs} g_{pqrs}  \\hat{a}^{\\dagger}_p \\hat{a}^{\\dagger}_q \\hat{a}_r  \\hat{a}_s\n",
    "$$\n",
    "with the 1-body integrals\n",
    "$$\n",
    "h_{pq} = \\int \\phi^*_p(r) \\left( -\\frac{1}{2} \\nabla^2 - \\sum_{I} \\frac{Z_I}{R_I- r} \\right)   \\phi_q(r)dr\n",
    "$$\n",
    "and 2-body integrals\n",
    "$$\n",
    "g_{pqrs} = \\int \\frac{\\phi^*_p(r_1)  \\phi^*_q(r_2) \\phi_r(r_2)  \\phi_s(r_1)}{|r_1-r_2|}dr_1dr_2.\n",
    "$$"
   ]
  },
  {
   "cell_type": "markdown",
   "id": "6ff40116",
   "metadata": {
    "slideshow": {
     "slide_type": "slide"
    }
   },
   "source": [
    "The beauty of the second quantization formalism is that not only operators but also **states** are written using the _creation_ and _annihilation_ operators.\n",
    "This means that our system's wave function can be represented as an **occupation number vector**. This enables a very straight forward notation of _ground_ and _excited states_:\n",
    "\n",
    "<img src=\"onv.png\" width=800/>"
   ]
  },
  {
   "cell_type": "markdown",
   "id": "945a9256",
   "metadata": {
    "slideshow": {
     "slide_type": "slide"
    }
   },
   "source": [
    "### Molecular Orbitals\n",
    "\n",
    "We sneakily introduced the concept of **molecular orbitals** which are obtained from the _atomic orbitals_ (given by our chosen basis) via a unitary transformation. In other words: each molecular orbital is a linear combination of all atomic orbitals.\n",
    "\n",
    "<img src=\"water_mo_diagram.jpg\"/>"
   ]
  },
  {
   "cell_type": "markdown",
   "id": "37760f29",
   "metadata": {
    "slideshow": {
     "slide_type": "notes"
    }
   },
   "source": [
    "Each MO can hold up to two electrons, one spin-up (_alpha_) and one spin-down (_beta_) electron.\n",
    "\n",
    "In Qiskit we will need to map these two cases onto the quantum computer separately. Thus, we are working with **spin orbitals** which are identical to the MOs but restrict the spin in either the up or down configuration, depending on the nature of the orbital."
   ]
  },
  {
   "cell_type": "markdown",
   "id": "a02a579b",
   "metadata": {
    "slideshow": {
     "slide_type": "slide"
    }
   },
   "source": [
    "### The `ElectronicStructureProblem`"
   ]
  },
  {
   "cell_type": "code",
   "execution_count": 1,
   "id": "f04ca3ba",
   "metadata": {
    "slideshow": {
     "slide_type": "notes"
    }
   },
   "outputs": [
    {
     "name": "stderr",
     "output_type": "stream",
     "text": [
      "/home/oss/Files/Qiskit/.direnv/python-3.9.7/lib64/python3.9/site-packages/pyscf/lib/misc.py:46: H5pyDeprecationWarning: Using default_file_mode other than 'r' is deprecated. Pass the mode to h5py.File() instead.\n",
      "  h5py.get_config().default_file_mode = 'a'\n"
     ]
    }
   ],
   "source": [
    "from qiskit_nature.drivers import Molecule\n",
    "from qiskit_nature.drivers.second_quantization import ElectronicStructureMoleculeDriver, ElectronicStructureDriverType\n",
    "from qiskit_nature.operators.second_quantization import FermionicOp\n",
    "from qiskit_nature.problems.second_quantization.electronic import ElectronicStructureProblem\n",
    "from qiskit_nature.transformers.second_quantization.electronic import ActiveSpaceTransformer"
   ]
  },
  {
   "cell_type": "markdown",
   "id": "c8507a1c",
   "metadata": {
    "slideshow": {
     "slide_type": "-"
    }
   },
   "source": [
    "The `ElectronicStructureProblem` makes it easy for us to represent a problem of the form which we just discussed.\n",
    "As an input, this kind of problem takes a so called `Driver` which is a concept in Qiskit Nature that allows us to couple to other (classical) computational chemistry codes which compute the 1- and 2-body integrals ($h_{pq}$ and $g_{pqrs}$) for us.\n",
    "\n",
    "For this simple example, we will be using the generic `Molecule`-based interface and tell it to use `PySCF` as the classical computational backend."
   ]
  },
  {
   "cell_type": "code",
   "execution_count": 2,
   "id": "393fb9f5",
   "metadata": {
    "slideshow": {
     "slide_type": "fragment"
    }
   },
   "outputs": [],
   "source": [
    "molecule = Molecule(\n",
    "    # coordinates are given in Angstrom\n",
    "    geometry=[\n",
    "        [\"O\", [0.0, 0.0, 0.115]],\n",
    "        [\"H\", [0.0, 0.754, -0.459]],\n",
    "        [\"H\", [0.0, -0.754, -0.459]],\n",
    "    ],\n",
    "    multiplicity=1,  # = 2*spin + 1\n",
    "    charge=0,\n",
    ")"
   ]
  },
  {
   "cell_type": "code",
   "execution_count": 3,
   "id": "e2e66153",
   "metadata": {
    "slideshow": {
     "slide_type": "slide"
    }
   },
   "outputs": [],
   "source": [
    "driver = ElectronicStructureMoleculeDriver(\n",
    "    molecule=molecule,\n",
    "    basis=\"sto3g\",\n",
    "    driver_type=ElectronicStructureDriverType.PYSCF,\n",
    ")"
   ]
  },
  {
   "cell_type": "markdown",
   "id": "c19eb5b0",
   "metadata": {
    "slideshow": {
     "slide_type": "fragment"
    }
   },
   "source": [
    "We could now run the driver manually by calling `driver.run()` but the preferred way is to wrap it into the previously mentioned `ElectronicStructureProblem` which we can solve later on."
   ]
  },
  {
   "cell_type": "code",
   "execution_count": 4,
   "id": "860f334e",
   "metadata": {
    "slideshow": {
     "slide_type": "-"
    }
   },
   "outputs": [],
   "source": [
    "problem = ElectronicStructureProblem(driver)"
   ]
  },
  {
   "cell_type": "markdown",
   "id": "bc09297a",
   "metadata": {
    "slideshow": {
     "slide_type": "slide"
    }
   },
   "source": [
    "Out of curiosity let us inspect the Hamiltonian of our system in its second-quantized form:"
   ]
  },
  {
   "cell_type": "code",
   "execution_count": 5,
   "id": "c9a06b03",
   "metadata": {
    "slideshow": {
     "slide_type": "-"
    }
   },
   "outputs": [],
   "source": [
    "# this will call driver.run() internally\n",
    "second_q_ops = problem.second_q_ops()"
   ]
  },
  {
   "cell_type": "code",
   "execution_count": null,
   "id": "3c57e710",
   "metadata": {
    "slideshow": {
     "slide_type": "-"
    }
   },
   "outputs": [],
   "source": [
    "# TODO: move to imports (and show imports)\n",
    "#FermionicOp.set_truncation(500)\n",
    "\n",
    "hamiltonian = second_q_ops[0]\n",
    "print(hamiltonian)"
   ]
  },
  {
   "cell_type": "markdown",
   "id": "5a160f45",
   "metadata": {
    "slideshow": {
     "slide_type": "slide"
    }
   },
   "source": [
    "We can gain further insight by investigating the raw output of our driver:"
   ]
  },
  {
   "cell_type": "code",
   "execution_count": 7,
   "id": "ab724989",
   "metadata": {
    "slideshow": {
     "slide_type": "-"
    }
   },
   "outputs": [
    {
     "name": "stdout",
     "output_type": "stream",
     "text": [
      "ElectronicStructureDriverResult:\n",
      "\tDriverMetadata:\n",
      "\t\tProgram: PYSCF\n",
      "\t\tVersion: 1.7.6\n",
      "\t\tConfig:\n",
      "\t\t\tatom=O 0.0 0.0 0.115;H 0.0 0.754 -0.459;H 0.0 -0.754 -0.459\n",
      "\t\t\tunit=Angstrom\n",
      "\t\t\tcharge=0\n",
      "\t\t\tspin=0\n",
      "\t\t\tbasis=sto3g\n",
      "\t\t\tmethod=rhf\n",
      "\t\t\tconv_tol=1e-09\n",
      "\t\t\tmax_cycle=50\n",
      "\t\t\tinit_guess=minao\n",
      "\t\t\tmax_memory=4000\n",
      "\t\t\t\n",
      "\tElectronicBasisTransform:\n",
      "\t\tInitial basis: atomic\n",
      "\t\tFinal basis: molecular\n",
      "\t\tAlpha coefficients:\n",
      "\t\t[0, 0] = 0.9941038468519987\n",
      "\t\t[0, 1] = -0.2324968442727891\n",
      "\t\t[0, 2] = 3.07214922262906e-17\n",
      "\t\t[0, 3] = -0.10305188327114584\n",
      "\t\t[0, 4] = -4.448901852669351e-18\n",
      "\t\t[0, 5] = -0.13415815779896753\n",
      "\t\t[0, 6] = -2.566406001885063e-16\n",
      "\t\t[1, 0] = 0.02678207865614997\n",
      "\t\t[1, 1] = 0.8301922072362911\n",
      "\t\t[1, 2] = -2.667817867739604e-16\n",
      "\t\t[1, 3] = 0.5369920122052859\n",
      "\t\t[1, 4] = 5.10370316375746e-17\n",
      "\t\t[1, 5] = 0.9038656248714041\n",
      "\t\t[1, 6] = 1.8130095584959163e-15\n",
      "\t\t[2, 0] = -5.621580737174608e-19\n",
      "\t\t[2, 1] = -1.353781313386951e-16\n",
      "\t\t[2, 2] = -7.603134836834508e-17\n",
      "\t\t[2, 3] = -7.426141965629887e-18\n",
      "\t\t[2, 4] = 1.0\n",
      "\t\t[2, 5] = -7.59684656468379e-18\n",
      "\t\t[2, 6] = -8.565526909356487e-17\n",
      "\t\t[3, 0] = -4.687749725501882e-19\n",
      "\t\t[3, 1] = 8.021767890642715e-17\n",
      "\t\t[3, 2] = 0.6055832621220072\n",
      "\t\t[3, 3] = -1.8461287660028482e-17\n",
      "\t\t[3, 4] = -1.6855791063568653e-16\n",
      "\t\t[3, 5] = -1.992427897044795e-15\n",
      "\t\t[3, 6] = 0.9988904152354002\n",
      "\t\t[4, 0] = -0.00441051917008089\n",
      "\t\t[4, 1] = -0.13195105708967625\n",
      "\t\t[4, 2] = 2.498001805406602e-16\n",
      "\t\t[4, 3] = 0.7817690957733558\n",
      "\t\t[4, 4] = -3.115475446324013e-17\n",
      "\t\t[4, 5] = -0.7377686987676115\n",
      "\t\t[4, 6] = -1.5265566588595902e-15\n",
      "\t\t[5, 0] = -0.006087632858196364\n",
      "\t\t[5, 1] = 0.15951045942567063\n",
      "\t\t[5, 2] = 0.4437869667171739\n",
      "\t\t[5, 3] = -0.2729085888490267\n",
      "\t\t[5, 4] = -1.3809350914378536e-16\n",
      "\t\t[5, 5] = -0.8052406318686626\n",
      "\t\t[5, 6] = -0.8470142665344277\n",
      "\t\t[6, 0] = -0.006087632858196365\n",
      "\t\t[6, 1] = 0.15951045942567105\n",
      "\t\t[6, 2] = -0.44378696671717327\n",
      "\t\t[6, 3] = -0.27290858884902686\n",
      "\t\t[6, 4] = 4.351963127979393e-18\n",
      "\t\t[6, 5] = -0.8052406318686666\n",
      "\t\t[6, 6] = 0.8470142665344242\n",
      "\t\tBeta coefficients:\n",
      "\t\t[0, 0] = 0.9941038468519987\n",
      "\t\t[0, 1] = -0.2324968442727891\n",
      "\t\t[0, 2] = 3.07214922262906e-17\n",
      "\t\t[0, 3] = -0.10305188327114584\n",
      "\t\t[0, 4] = -4.448901852669351e-18\n",
      "\t\t[0, 5] = -0.13415815779896753\n",
      "\t\t[0, 6] = -2.566406001885063e-16\n",
      "\t\t[1, 0] = 0.02678207865614997\n",
      "\t\t[1, 1] = 0.8301922072362911\n",
      "\t\t[1, 2] = -2.667817867739604e-16\n",
      "\t\t[1, 3] = 0.5369920122052859\n",
      "\t\t[1, 4] = 5.10370316375746e-17\n",
      "\t\t[1, 5] = 0.9038656248714041\n",
      "\t\t[1, 6] = 1.8130095584959163e-15\n",
      "\t\t[2, 0] = -5.621580737174608e-19\n",
      "\t\t[2, 1] = -1.353781313386951e-16\n",
      "\t\t[2, 2] = -7.603134836834508e-17\n",
      "\t\t[2, 3] = -7.426141965629887e-18\n",
      "\t\t[2, 4] = 1.0\n",
      "\t\t[2, 5] = -7.59684656468379e-18\n",
      "\t\t[2, 6] = -8.565526909356487e-17\n",
      "\t\t[3, 0] = -4.687749725501882e-19\n",
      "\t\t[3, 1] = 8.021767890642715e-17\n",
      "\t\t[3, 2] = 0.6055832621220072\n",
      "\t\t[3, 3] = -1.8461287660028482e-17\n",
      "\t\t[3, 4] = -1.6855791063568653e-16\n",
      "\t\t[3, 5] = -1.992427897044795e-15\n",
      "\t\t[3, 6] = 0.9988904152354002\n",
      "\t\t[4, 0] = -0.00441051917008089\n",
      "\t\t[4, 1] = -0.13195105708967625\n",
      "\t\t[4, 2] = 2.498001805406602e-16\n",
      "\t\t[4, 3] = 0.7817690957733558\n",
      "\t\t[4, 4] = -3.115475446324013e-17\n",
      "\t\t[4, 5] = -0.7377686987676115\n",
      "\t\t[4, 6] = -1.5265566588595902e-15\n",
      "\t\t[5, 0] = -0.006087632858196364\n",
      "\t\t[5, 1] = 0.15951045942567063\n",
      "\t\t[5, 2] = 0.4437869667171739\n",
      "\t\t[5, 3] = -0.2729085888490267\n",
      "\t\t[5, 4] = -1.3809350914378536e-16\n",
      "\t\t[5, 5] = -0.8052406318686626\n",
      "\t\t[5, 6] = -0.8470142665344277\n",
      "\t\t[6, 0] = -0.006087632858196365\n",
      "\t\t[6, 1] = 0.15951045942567105\n",
      "\t\t[6, 2] = -0.44378696671717327\n",
      "\t\t[6, 3] = -0.27290858884902686\n",
      "\t\t[6, 4] = 4.351963127979393e-18\n",
      "\t\t[6, 5] = -0.8052406318686666\n",
      "\t\t[6, 6] = 0.8470142665344242\n",
      "\tParticleNumber:\n",
      "\t\t14 SOs\n",
      "\t\t5 alpha electrons\n",
      "\t\t\torbital occupation: [1. 1. 1. 1. 1. 0. 0.]\n",
      "\t\t5 beta electrons\n",
      "\t\t\torbital occupation: [1. 1. 1. 1. 1. 0. 0.]\n",
      "\tElectronicEnergy\n",
      "\t\t(AO) 1-Body Terms:\n",
      "\t\t\tAlpha\n",
      "\t\t\t<(7, 7) matrix with 31 non-zero entries>\n",
      "\t\t\t[0, 0] = -32.73210507886267\n",
      "\t\t\t[0, 1] = -7.615453203661359\n",
      "\t\t\t[0, 4] = 0.0191880200870366\n",
      "\t\t\t[0, 5] = -1.7902790229833077\n",
      "\t\t\t[0, 6] = -1.7902790229833077\n",
      "\t\t\t... skipping 26 entries\n",
      "\t\t\tBeta\n",
      "\t\t\t<(7, 7) matrix with 31 non-zero entries>\n",
      "\t\t\t[0, 0] = -32.73210507886267\n",
      "\t\t\t[0, 1] = -7.615453203661359\n",
      "\t\t\t[0, 4] = 0.0191880200870366\n",
      "\t\t\t[0, 5] = -1.7902790229833077\n",
      "\t\t\t[0, 6] = -1.7902790229833077\n",
      "\t\t\t... skipping 26 entries\n",
      "\t\t(AO) 2-Body Terms:\n",
      "\t\t\tAlpha-Alpha\n",
      "\t\t\t<(7, 7, 7, 7) matrix with 1245 non-zero entries>\n",
      "\t\t\t[0, 0, 0, 0] = 4.785065404705503\n",
      "\t\t\t[0, 0, 0, 1] = 0.7413803519734079\n",
      "\t\t\t[0, 0, 0, 5] = 0.17579330413348518\n",
      "\t\t\t[0, 0, 0, 6] = 0.17579330413348518\n",
      "\t\t\t[0, 0, 1, 0] = 0.741380351973408\n",
      "\t\t\t... skipping 1240 entries\n",
      "\t\t\tBeta-Alpha\n",
      "\t\t\t<(7, 7, 7, 7) matrix with 1245 non-zero entries>\n",
      "\t\t\t[0, 0, 0, 0] = 4.785065404705503\n",
      "\t\t\t[0, 0, 0, 1] = 0.7413803519734079\n",
      "\t\t\t[0, 0, 0, 5] = 0.17579330413348518\n",
      "\t\t\t[0, 0, 0, 6] = 0.17579330413348518\n",
      "\t\t\t[0, 0, 1, 0] = 0.741380351973408\n",
      "\t\t\t... skipping 1240 entries\n",
      "\t\t\tBeta-Beta\n",
      "\t\t\t<(7, 7, 7, 7) matrix with 1245 non-zero entries>\n",
      "\t\t\t[0, 0, 0, 0] = 4.785065404705503\n",
      "\t\t\t[0, 0, 0, 1] = 0.7413803519734079\n",
      "\t\t\t[0, 0, 0, 5] = 0.17579330413348518\n",
      "\t\t\t[0, 0, 0, 6] = 0.17579330413348518\n",
      "\t\t\t[0, 0, 1, 0] = 0.741380351973408\n",
      "\t\t\t... skipping 1240 entries\n",
      "\t\t\tAlpha-Beta\n",
      "\t\t\t<(7, 7, 7, 7) matrix with 1245 non-zero entries>\n",
      "\t\t\t[0, 0, 0, 0] = 4.785065404705503\n",
      "\t\t\t[0, 0, 0, 1] = 0.7413803519734079\n",
      "\t\t\t[0, 0, 0, 5] = 0.17579330413348518\n",
      "\t\t\t[0, 0, 0, 6] = 0.17579330413348518\n",
      "\t\t\t[0, 0, 1, 0] = 0.741380351973408\n",
      "\t\t\t... skipping 1240 entries\n",
      "\t\t(MO) 1-Body Terms:\n",
      "\t\t\tAlpha\n",
      "\t\t\t<(7, 7) matrix with 21 non-zero entries>\n",
      "\t\t\t[0, 0] = -32.71434384271035\n",
      "\t\t\t[0, 1] = 0.5578998850170992\n",
      "\t\t\t[0, 3] = 0.23514619632373335\n",
      "\t\t\t[0, 5] = 0.3092400952124816\n",
      "\t\t\t[1, 0] = 0.5578998850170998\n",
      "\t\t\t... skipping 16 entries\n",
      "\t\t\tBeta\n",
      "\t\t\t<(7, 7) matrix with 21 non-zero entries>\n",
      "\t\t\t[0, 0] = -32.71434384271035\n",
      "\t\t\t[0, 1] = 0.5578998850170992\n",
      "\t\t\t[0, 3] = 0.23514619632373335\n",
      "\t\t\t[0, 5] = 0.3092400952124816\n",
      "\t\t\t[1, 0] = 0.5578998850170998\n",
      "\t\t\t... skipping 16 entries\n",
      "\t\t(MO) 2-Body Terms:\n",
      "\t\t\tAlpha-Alpha\n",
      "\t\t\t<(7, 7, 7, 7) matrix with 777 non-zero entries>\n",
      "\t\t\t[0, 0, 0, 0] = 4.74431121866282\n",
      "\t\t\t[0, 0, 0, 1] = -0.416083813155262\n",
      "\t\t\t[0, 0, 0, 3] = -0.18341426776011754\n",
      "\t\t\t[0, 0, 0, 5] = -0.24145944466572844\n",
      "\t\t\t[0, 0, 1, 0] = -0.41608381315526194\n",
      "\t\t\t... skipping 772 entries\n",
      "\t\t\tBeta-Alpha\n",
      "\t\t\t<(7, 7, 7, 7) matrix with 777 non-zero entries>\n",
      "\t\t\t[0, 0, 0, 0] = 4.74431121866282\n",
      "\t\t\t[0, 0, 0, 1] = -0.416083813155262\n",
      "\t\t\t[0, 0, 0, 3] = -0.18341426776011754\n",
      "\t\t\t[0, 0, 0, 5] = -0.24145944466572844\n",
      "\t\t\t[0, 0, 1, 0] = -0.41608381315526194\n",
      "\t\t\t... skipping 772 entries\n",
      "\t\t\tBeta-Beta\n",
      "\t\t\t<(7, 7, 7, 7) matrix with 777 non-zero entries>\n",
      "\t\t\t[0, 0, 0, 0] = 4.74431121866282\n",
      "\t\t\t[0, 0, 0, 1] = -0.416083813155262\n",
      "\t\t\t[0, 0, 0, 3] = -0.18341426776011754\n",
      "\t\t\t[0, 0, 0, 5] = -0.24145944466572844\n",
      "\t\t\t[0, 0, 1, 0] = -0.41608381315526194\n",
      "\t\t\t... skipping 772 entries\n",
      "\t\t\tAlpha-Beta\n",
      "\t\t\t<(7, 7, 7, 7) matrix with 777 non-zero entries>\n",
      "\t\t\t[0, 0, 0, 0] = 4.74431121866282\n",
      "\t\t\t[0, 0, 0, 1] = -0.416083813155262\n",
      "\t\t\t[0, 0, 0, 3] = -0.18341426776011754\n",
      "\t\t\t[0, 0, 0, 5] = -0.24145944466572844\n",
      "\t\t\t[0, 0, 1, 0] = -0.41608381315526194\n",
      "\t\t\t... skipping 772 entries\n",
      "\tElectronicDipoleMoment:\n",
      "\t\tDipoleMomentX\n",
      "\t\t\t(AO) 1-Body Terms:\n",
      "\t\t\t\tAlpha\n",
      "\t\t\t\t<(7, 7) matrix with 8 non-zero entries>\n",
      "\t\t\t\t[0, 2] = 0.05079192958791235\n",
      "\t\t\t\t[1, 2] = 0.6411728443249253\n",
      "\t\t\t\t[2, 0] = 0.05079192958791235\n",
      "\t\t\t\t[2, 1] = 0.6411728443249253\n",
      "\t\t\t\t[2, 5] = 0.30915367280278916\n",
      "\t\t\t\t... skipping 3 entries\n",
      "\t\t\t\tBeta\n",
      "\t\t\t\t<(7, 7) matrix with 8 non-zero entries>\n",
      "\t\t\t\t[0, 2] = 0.05079192958791235\n",
      "\t\t\t\t[1, 2] = 0.6411728443249253\n",
      "\t\t\t\t[2, 0] = 0.05079192958791235\n",
      "\t\t\t\t[2, 1] = 0.6411728443249253\n",
      "\t\t\t\t[2, 5] = 0.30915367280278916\n",
      "\t\t\t\t... skipping 3 entries\n",
      "\t\t\t(MO) 1-Body Terms:\n",
      "\t\t\t\tAlpha\n",
      "\t\t\t\t<(7, 7) matrix with 8 non-zero entries>\n",
      "\t\t\t\t[0, 4] = 0.06390036602770438\n",
      "\t\t\t\t[1, 4] = 0.6191142242701779\n",
      "\t\t\t\t[3, 4] = 0.1703291066822125\n",
      "\t\t\t\t[4, 0] = 0.06390036602770438\n",
      "\t\t\t\t[4, 1] = 0.6191142242701779\n",
      "\t\t\t\t... skipping 3 entries\n",
      "\t\t\t\tBeta\n",
      "\t\t\t\t<(7, 7) matrix with 8 non-zero entries>\n",
      "\t\t\t\t[0, 4] = 0.06390036602770438\n",
      "\t\t\t\t[1, 4] = 0.6191142242701779\n",
      "\t\t\t\t[3, 4] = 0.1703291066822125\n",
      "\t\t\t\t[4, 0] = 0.06390036602770438\n",
      "\t\t\t\t[4, 1] = 0.6191142242701779\n",
      "\t\t\t\t... skipping 3 entries\n",
      "\t\tDipoleMomentY\n",
      "\t\t\t(AO) 1-Body Terms:\n",
      "\t\t\t\tAlpha\n",
      "\t\t\t\t<(7, 7) matrix with 22 non-zero entries>\n",
      "\t\t\t\t[0, 3] = 0.05079192958791235\n",
      "\t\t\t\t[0, 5] = 0.0032052941540769942\n",
      "\t\t\t\t[0, 6] = -0.0032052941540769942\n",
      "\t\t\t\t[1, 3] = 0.6411728443249253\n",
      "\t\t\t\t[1, 5] = 0.2929228341013192\n",
      "\t\t\t\t... skipping 17 entries\n",
      "\t\t\t\tBeta\n",
      "\t\t\t\t<(7, 7) matrix with 22 non-zero entries>\n",
      "\t\t\t\t[0, 3] = 0.05079192958791235\n",
      "\t\t\t\t[0, 5] = 0.0032052941540769942\n",
      "\t\t\t\t[0, 6] = -0.0032052941540769942\n",
      "\t\t\t\t[1, 3] = 0.6411728443249253\n",
      "\t\t\t\t[1, 5] = 0.2929228341013192\n",
      "\t\t\t\t... skipping 17 entries\n",
      "\t\t\t(MO) 1-Body Terms:\n",
      "\t\t\t\tAlpha\n",
      "\t\t\t\t<(7, 7) matrix with 16 non-zero entries>\n",
      "\t\t\t\t[0, 2] = 0.039923088525765774\n",
      "\t\t\t\t[0, 6] = 0.05631564616744341\n",
      "\t\t\t\t[1, 2] = 0.8475158979655106\n",
      "\t\t\t\t[1, 6] = -0.14799915306864453\n",
      "\t\t\t\t[2, 0] = 0.039923088525765774\n",
      "\t\t\t\t... skipping 11 entries\n",
      "\t\t\t\tBeta\n",
      "\t\t\t\t<(7, 7) matrix with 16 non-zero entries>\n",
      "\t\t\t\t[0, 2] = 0.039923088525765774\n",
      "\t\t\t\t[0, 6] = 0.05631564616744341\n",
      "\t\t\t\t[1, 2] = 0.8475158979655106\n",
      "\t\t\t\t[1, 6] = -0.14799915306864453\n",
      "\t\t\t\t[2, 0] = 0.039923088525765774\n",
      "\t\t\t\t... skipping 11 entries\n",
      "\t\tDipoleMomentZ\n",
      "\t\t\t(AO) 1-Body Terms:\n",
      "\t\t\t\tAlpha\n",
      "\t\t\t\t<(7, 7) matrix with 31 non-zero entries>\n",
      "\t\t\t\t[0, 0] = 0.21731850432498206\n",
      "\t\t\t\t[0, 1] = 0.051440145450372926\n",
      "\t\t\t\t[0, 4] = 0.05079192958791235\n",
      "\t\t\t\t[0, 5] = 0.009559648381014491\n",
      "\t\t\t\t[0, 6] = 0.009559648381014491\n",
      "\t\t\t\t... skipping 26 entries\n",
      "\t\t\t\tBeta\n",
      "\t\t\t\t<(7, 7) matrix with 31 non-zero entries>\n",
      "\t\t\t\t[0, 0] = 0.21731850432498206\n",
      "\t\t\t\t[0, 1] = 0.051440145450372926\n",
      "\t\t\t\t[0, 4] = 0.05079192958791235\n",
      "\t\t\t\t[0, 5] = 0.009559648381014491\n",
      "\t\t\t\t[0, 6] = 0.009559648381014491\n",
      "\t\t\t\t... skipping 26 entries\n",
      "\t\t\t(MO) 1-Body Terms:\n",
      "\t\t\t\tAlpha\n",
      "\t\t\t\t<(7, 7) matrix with 21 non-zero entries>\n",
      "\t\t\t\t[0, 0] = 0.21687080048082616\n",
      "\t\t\t\t[0, 1] = -0.008930229930278706\n",
      "\t\t\t\t[0, 3] = 0.0499108785251039\n",
      "\t\t\t\t[0, 5] = -0.042994602023445086\n",
      "\t\t\t\t[1, 0] = -0.008930229930278725\n",
      "\t\t\t\t... skipping 16 entries\n",
      "\t\t\t\tBeta\n",
      "\t\t\t\t<(7, 7) matrix with 21 non-zero entries>\n",
      "\t\t\t\t[0, 0] = 0.21687080048082616\n",
      "\t\t\t\t[0, 1] = -0.008930229930278706\n",
      "\t\t\t\t[0, 3] = 0.0499108785251039\n",
      "\t\t\t\t[0, 5] = -0.042994602023445086\n",
      "\t\t\t\t[1, 0] = -0.008930229930278725\n",
      "\t\t\t\t... skipping 16 entries\n",
      "\tAngularMomentum:\n",
      "\t\t14 SOs\n",
      "\tMagnetization:\n",
      "\t\t14 SOs\n",
      "Molecule:\n",
      "\tMultiplicity: 1\n",
      "\tCharge: 0\n",
      "\tGeometry:\n",
      "\t\tO\t[0.0, 0.0, 0.21731850432498212]\n",
      "\t\tH\t[0.0, 1.4248534979220566, -0.8673842911753634]\n",
      "\t\tH\t[0.0, -1.4248534979220566, -0.8673842911753634]\n",
      "\tMasses:\n",
      "\t\tO\t16\n",
      "\t\tH\t1\n",
      "\t\tH\t1\n"
     ]
    }
   ],
   "source": [
    "print(problem.grouped_property)"
   ]
  },
  {
   "cell_type": "markdown",
   "id": "96673a36",
   "metadata": {
    "slideshow": {
     "slide_type": "slide"
    }
   },
   "source": [
    "We notice that this system contains 14 spin orbitals, which will cause our calculations to take a considerably long time. We can reduce the size of our problem by selected an *active space*."
   ]
  },
  {
   "cell_type": "code",
   "execution_count": 8,
   "id": "0a9b1989",
   "metadata": {
    "slideshow": {
     "slide_type": "fragment"
    }
   },
   "outputs": [],
   "source": [
    "transformer = ActiveSpaceTransformer(\n",
    "    num_electrons=2,\n",
    "    num_molecular_orbitals=3,\n",
    ")"
   ]
  },
  {
   "cell_type": "code",
   "execution_count": 9,
   "id": "56428273",
   "metadata": {
    "slideshow": {
     "slide_type": "fragment"
    }
   },
   "outputs": [],
   "source": [
    "problem_reduced = ElectronicStructureProblem(driver, [transformer])\n",
    "second_q_ops_reduced = problem_reduced.second_q_ops()\n",
    "hamiltonian_reduced = second_q_ops_reduced[0]"
   ]
  },
  {
   "cell_type": "code",
   "execution_count": 10,
   "id": "411905da",
   "metadata": {
    "slideshow": {
     "slide_type": "-"
    }
   },
   "outputs": [
    {
     "name": "stdout",
     "output_type": "stream",
     "text": [
      "Fermionic Operator\n",
      "register length=6, number terms=33\n",
      "  (0.03893103043276141+0j) * ( +_0 -_1 +_3 -_4 )\n",
      "+ (-0.03893103043276137+0j) * ( +_0 -_1 -_3 +_4 )\n",
      "+ (0.02435454706021395+0j) * ( +_0 -_2 +_3 -_5 )\n",
      "+ (-0.024354547060213932+0j) * ( +_0 -_2 -_3 +_5 )\n",
      "+ (-0.03893103043276137+0j) * ( -_0 +_1 +_3 -_4 )\n",
      "+ (0.038931030432761346+0j) * ( -_0 +_1 -_3 +_4 )\n",
      "+ (-0.024354547060213932+0j) * ( -_0 +_2 +_3 -_5 )\n",
      "+ (0.024354547060213932+0j) * ( -_0 +_2 -_3 +_5 )\n",
      "+ (0.11590317383979615+0j) * ( +_1 -_2 +_4 -_5 )\n",
      "+ (-0.11590317383979612+0j) * ( +_1 -_2 -_4 +_5 ...\n"
     ]
    }
   ],
   "source": [
    "print(hamiltonian_reduced)"
   ]
  },
  {
   "cell_type": "code",
   "execution_count": 11,
   "id": "261a9db6",
   "metadata": {
    "slideshow": {
     "slide_type": "slide"
    }
   },
   "outputs": [
    {
     "name": "stdout",
     "output_type": "stream",
     "text": [
      "ElectronicStructureDriverResult:\n",
      "\tDriverMetadata:\n",
      "\t\tProgram: PYSCF\n",
      "\t\tVersion: 1.7.6\n",
      "\t\tConfig:\n",
      "\t\t\tatom=O 0.0 0.0 0.115;H 0.0 0.754 -0.459;H 0.0 -0.754 -0.459\n",
      "\t\t\tunit=Angstrom\n",
      "\t\t\tcharge=0\n",
      "\t\t\tspin=0\n",
      "\t\t\tbasis=sto3g\n",
      "\t\t\tmethod=rhf\n",
      "\t\t\tconv_tol=1e-09\n",
      "\t\t\tmax_cycle=50\n",
      "\t\t\tinit_guess=minao\n",
      "\t\t\tmax_memory=4000\n",
      "\t\t\t\n",
      "\tElectronicBasisTransform:\n",
      "\t\tInitial basis: atomic\n",
      "\t\tFinal basis: molecular\n",
      "\t\tAlpha coefficients:\n",
      "\t\t[0, 0] = 0.9941038468519983\n",
      "\t\t[0, 1] = -0.2324968442727841\n",
      "\t\t[0, 2] = 2.05754194645156e-16\n",
      "\t\t[0, 3] = -0.10305188327114131\n",
      "\t\t[0, 4] = 1.5795877551576306e-18\n",
      "\t\t[0, 5] = -0.13415815779898035\n",
      "\t\t[0, 6] = 3.7565869909763627e-16\n",
      "\t\t[1, 0] = 0.026782078656150548\n",
      "\t\t[1, 1] = 0.8301922072362607\n",
      "\t\t[1, 2] = -8.907197834480505e-16\n",
      "\t\t[1, 3] = 0.5369920122052277\n",
      "\t\t[1, 4] = -2.5425597103889975e-17\n",
      "\t\t[1, 5] = 0.9038656248714654\n",
      "\t\t[1, 6] = -2.6399582880334174e-15\n",
      "\t\t[2, 0] = -1.7557510392981973e-19\n",
      "\t\t[2, 1] = 1.0341540791423741e-16\n",
      "\t\t[2, 2] = 8.698720334656905e-16\n",
      "\t\t[2, 3] = -2.5211953822379544e-16\n",
      "\t\t[2, 4] = 1.0\n",
      "\t\t[2, 5] = 1.0864962974376757e-16\n",
      "\t\t[2, 6] = 1.6911931690708623e-16\n",
      "\t\t[3, 0] = -3.4562459918776618e-19\n",
      "\t\t[3, 1] = 1.2899199156221787e-16\n",
      "\t\t[3, 2] = 0.6055832621219593\n",
      "\t\t[3, 3] = 6.886862146980973e-16\n",
      "\t\t[3, 4] = -4.728461842939834e-16\n",
      "\t\t[3, 5] = 2.882244310554552e-15\n",
      "\t\t[3, 6] = 0.9988904152354301\n",
      "\t\t[4, 0] = -0.004410519170080835\n",
      "\t\t[4, 1] = -0.13195105708969487\n",
      "\t\t[4, 2] = -9.992007221626409e-16\n",
      "\t\t[4, 3] = 0.7817690957734229\n",
      "\t\t[4, 4] = 2.859181464862344e-16\n",
      "\t\t[4, 5] = -0.7377686987675374\n",
      "\t\t[4, 6] = 2.0816681711721685e-15\n",
      "\t\t[5, 0] = -0.0060876328581965025\n",
      "\t\t[5, 1] = 0.1595104594256904\n",
      "\t\t[5, 2] = 0.4437869667172144\n",
      "\t\t[5, 3] = -0.272908588848943\n",
      "\t\t[5, 4] = -4.830116685166571e-16\n",
      "\t\t[5, 5] = -0.8052406318686912\n",
      "\t\t[5, 6] = -0.8470142665344024\n",
      "\t\t[6, 0] = -0.006087632858196503\n",
      "\t\t[6, 1] = 0.15951045942568987\n",
      "\t\t[6, 2] = -0.44378696671721407\n",
      "\t\t[6, 3] = -0.27290858884894387\n",
      "\t\t[6, 4] = 5.741400105594263e-16\n",
      "\t\t[6, 5] = -0.8052406318686862\n",
      "\t\t[6, 6] = 0.8470142665344074\n",
      "\t\tBeta coefficients:\n",
      "\t\t[0, 0] = 0.9941038468519983\n",
      "\t\t[0, 1] = -0.2324968442727841\n",
      "\t\t[0, 2] = 2.05754194645156e-16\n",
      "\t\t[0, 3] = -0.10305188327114131\n",
      "\t\t[0, 4] = 1.5795877551576306e-18\n",
      "\t\t[0, 5] = -0.13415815779898035\n",
      "\t\t[0, 6] = 3.7565869909763627e-16\n",
      "\t\t[1, 0] = 0.026782078656150548\n",
      "\t\t[1, 1] = 0.8301922072362607\n",
      "\t\t[1, 2] = -8.907197834480505e-16\n",
      "\t\t[1, 3] = 0.5369920122052277\n",
      "\t\t[1, 4] = -2.5425597103889975e-17\n",
      "\t\t[1, 5] = 0.9038656248714654\n",
      "\t\t[1, 6] = -2.6399582880334174e-15\n",
      "\t\t[2, 0] = -1.7557510392981973e-19\n",
      "\t\t[2, 1] = 1.0341540791423741e-16\n",
      "\t\t[2, 2] = 8.698720334656905e-16\n",
      "\t\t[2, 3] = -2.5211953822379544e-16\n",
      "\t\t[2, 4] = 1.0\n",
      "\t\t[2, 5] = 1.0864962974376757e-16\n",
      "\t\t[2, 6] = 1.6911931690708623e-16\n",
      "\t\t[3, 0] = -3.4562459918776618e-19\n",
      "\t\t[3, 1] = 1.2899199156221787e-16\n",
      "\t\t[3, 2] = 0.6055832621219593\n",
      "\t\t[3, 3] = 6.886862146980973e-16\n",
      "\t\t[3, 4] = -4.728461842939834e-16\n",
      "\t\t[3, 5] = 2.882244310554552e-15\n",
      "\t\t[3, 6] = 0.9988904152354301\n",
      "\t\t[4, 0] = -0.004410519170080835\n",
      "\t\t[4, 1] = -0.13195105708969487\n",
      "\t\t[4, 2] = -9.992007221626409e-16\n",
      "\t\t[4, 3] = 0.7817690957734229\n",
      "\t\t[4, 4] = 2.859181464862344e-16\n",
      "\t\t[4, 5] = -0.7377686987675374\n",
      "\t\t[4, 6] = 2.0816681711721685e-15\n",
      "\t\t[5, 0] = -0.0060876328581965025\n",
      "\t\t[5, 1] = 0.1595104594256904\n",
      "\t\t[5, 2] = 0.4437869667172144\n",
      "\t\t[5, 3] = -0.272908588848943\n",
      "\t\t[5, 4] = -4.830116685166571e-16\n",
      "\t\t[5, 5] = -0.8052406318686912\n",
      "\t\t[5, 6] = -0.8470142665344024\n",
      "\t\t[6, 0] = -0.006087632858196503\n",
      "\t\t[6, 1] = 0.15951045942568987\n",
      "\t\t[6, 2] = -0.44378696671721407\n",
      "\t\t[6, 3] = -0.27290858884894387\n",
      "\t\t[6, 4] = 5.741400105594263e-16\n",
      "\t\t[6, 5] = -0.8052406318686862\n",
      "\t\t[6, 6] = 0.8470142665344074\n",
      "\tParticleNumber:\n",
      "\t\t6 SOs\n",
      "\t\t1 alpha electrons\n",
      "\t\t\torbital occupation: [1. 0. 0.]\n",
      "\t\t1 beta electrons\n",
      "\t\t\torbital occupation: [1. 0. 0.]\n",
      "\tElectronicEnergy\n",
      "\t\t(AO) 1-Body Terms:\n",
      "\t\t\tAlpha\n",
      "\t\t\t<(7, 7) matrix with 31 non-zero entries>\n",
      "\t\t\t[0, 0] = -22.437613988346353\n",
      "\t\t\t[0, 1] = -5.638504821761311\n",
      "\t\t\t[0, 4] = 0.029637276085025612\n",
      "\t\t\t[0, 5] = -1.3318022005114356\n",
      "\t\t\t[0, 6] = -1.3318022005114356\n",
      "\t\t\t... skipping 26 entries\n",
      "\t\t\tBeta\n",
      "\t\t\t<(7, 7) matrix with 31 non-zero entries>\n",
      "\t\t\t[0, 0] = -22.437613988346353\n",
      "\t\t\t[0, 1] = -5.638504821761311\n",
      "\t\t\t[0, 4] = 0.029637276085025612\n",
      "\t\t\t[0, 5] = -1.3318022005114356\n",
      "\t\t\t[0, 6] = -1.3318022005114356\n",
      "\t\t\t... skipping 26 entries\n",
      "\t\t(AO) 2-Body Terms:\n",
      "\t\t\tAlpha-Alpha\n",
      "\t\t\t<(7, 7, 7, 7) matrix with 1245 non-zero entries>\n",
      "\t\t\t[0, 0, 0, 0] = 4.785065404705503\n",
      "\t\t\t[0, 0, 0, 1] = 0.7413803519734079\n",
      "\t\t\t[0, 0, 0, 5] = 0.17579330413348518\n",
      "\t\t\t[0, 0, 0, 6] = 0.17579330413348518\n",
      "\t\t\t[0, 0, 1, 0] = 0.741380351973408\n",
      "\t\t\t... skipping 1240 entries\n",
      "\t\t\tBeta-Alpha\n",
      "\t\t\t<(7, 7, 7, 7) matrix with 1245 non-zero entries>\n",
      "\t\t\t[0, 0, 0, 0] = 4.785065404705503\n",
      "\t\t\t[0, 0, 0, 1] = 0.7413803519734079\n",
      "\t\t\t[0, 0, 0, 5] = 0.17579330413348518\n",
      "\t\t\t[0, 0, 0, 6] = 0.17579330413348518\n",
      "\t\t\t[0, 0, 1, 0] = 0.741380351973408\n",
      "\t\t\t... skipping 1240 entries\n",
      "\t\t\tBeta-Beta\n",
      "\t\t\t<(7, 7, 7, 7) matrix with 1245 non-zero entries>\n",
      "\t\t\t[0, 0, 0, 0] = 4.785065404705503\n",
      "\t\t\t[0, 0, 0, 1] = 0.7413803519734079\n",
      "\t\t\t[0, 0, 0, 5] = 0.17579330413348518\n",
      "\t\t\t[0, 0, 0, 6] = 0.17579330413348518\n",
      "\t\t\t[0, 0, 1, 0] = 0.741380351973408\n",
      "\t\t\t... skipping 1240 entries\n",
      "\t\t\tAlpha-Beta\n",
      "\t\t\t<(7, 7, 7, 7) matrix with 1245 non-zero entries>\n",
      "\t\t\t[0, 0, 0, 0] = 4.785065404705503\n",
      "\t\t\t[0, 0, 0, 1] = 0.7413803519734079\n",
      "\t\t\t[0, 0, 0, 5] = 0.17579330413348518\n",
      "\t\t\t[0, 0, 0, 6] = 0.17579330413348518\n",
      "\t\t\t[0, 0, 1, 0] = 0.741380351973408\n",
      "\t\t\t... skipping 1240 entries\n",
      "\t\t(MO) 1-Body Terms:\n",
      "\t\t\tAlpha\n",
      "\t\t\t<(3, 3) matrix with 3 non-zero entries>\n",
      "\t\t\t[0, 0] = -1.271368492225287\n",
      "\t\t\t[1, 1] = -0.5252015734603885\n",
      "\t\t\t[2, 2] = -0.47231212091607866\n",
      "\t\t\tBeta\n",
      "\t\t\t<(3, 3) matrix with 3 non-zero entries>\n",
      "\t\t\t[0, 0] = -1.271368492225287\n",
      "\t\t\t[1, 1] = -0.5252015734603885\n",
      "\t\t\t[2, 2] = -0.47231212091607866\n",
      "\t\t(MO) 2-Body Terms:\n",
      "\t\t\tAlpha-Alpha\n",
      "\t\t\t<(3, 3, 3, 3) matrix with 21 non-zero entries>\n",
      "\t\t\t[0, 0, 0, 0] = 0.8801590933750436\n",
      "\t\t\t[0, 0, 1, 1] = 0.5888764776489752\n",
      "\t\t\t[0, 0, 2, 2] = 0.6266270814175041\n",
      "\t\t\t[0, 1, 0, 1] = 0.038931030432761374\n",
      "\t\t\t[0, 1, 1, 0] = 0.03893103043276141\n",
      "\t\t\t... skipping 16 entries\n",
      "\t\t\tBeta-Alpha\n",
      "\t\t\t<(3, 3, 3, 3) matrix with 21 non-zero entries>\n",
      "\t\t\t[0, 0, 0, 0] = 0.8801590933750436\n",
      "\t\t\t[0, 0, 1, 1] = 0.5888764776489752\n",
      "\t\t\t[0, 0, 2, 2] = 0.6266270814175041\n",
      "\t\t\t[0, 1, 0, 1] = 0.038931030432761374\n",
      "\t\t\t[0, 1, 1, 0] = 0.03893103043276141\n",
      "\t\t\t... skipping 16 entries\n",
      "\t\t\tBeta-Beta\n",
      "\t\t\t<(3, 3, 3, 3) matrix with 21 non-zero entries>\n",
      "\t\t\t[0, 0, 0, 0] = 0.8801590933750436\n",
      "\t\t\t[0, 0, 1, 1] = 0.5888764776489752\n",
      "\t\t\t[0, 0, 2, 2] = 0.6266270814175041\n",
      "\t\t\t[0, 1, 0, 1] = 0.038931030432761374\n",
      "\t\t\t[0, 1, 1, 0] = 0.03893103043276141\n",
      "\t\t\t... skipping 16 entries\n",
      "\t\t\tAlpha-Beta\n",
      "\t\t\t<(3, 3, 3, 3) matrix with 21 non-zero entries>\n",
      "\t\t\t[0, 0, 0, 0] = 0.8801590933750436\n",
      "\t\t\t[0, 0, 1, 1] = 0.5888764776489752\n",
      "\t\t\t[0, 0, 2, 2] = 0.6266270814175041\n",
      "\t\t\t[0, 1, 0, 1] = 0.038931030432761374\n",
      "\t\t\t[0, 1, 1, 0] = 0.03893103043276141\n",
      "\t\t\t... skipping 16 entries\n",
      "\t\tEnergy Shifts:\n",
      "\t\t\tActiveSpaceTransformer = (-82.58413593368785+0j)\n",
      "\tElectronicDipoleMoment:\n",
      "\t\tDipoleMomentX\n",
      "\t\t\t(AO) 1-Body Terms:\n",
      "\t\t\t\tAlpha\n",
      "\t\t\t\t<(7, 7) matrix with 8 non-zero entries>\n",
      "\t\t\t\t[0, 2] = 0.05079192958791235\n",
      "\t\t\t\t[1, 2] = 0.6411728443249253\n",
      "\t\t\t\t[2, 0] = 0.05079192958791235\n",
      "\t\t\t\t[2, 1] = 0.6411728443249253\n",
      "\t\t\t\t[2, 5] = 0.30915367280278916\n",
      "\t\t\t\t... skipping 3 entries\n",
      "\t\t\t\tBeta\n",
      "\t\t\t\t<(7, 7) matrix with 8 non-zero entries>\n",
      "\t\t\t\t[0, 2] = 0.05079192958791235\n",
      "\t\t\t\t[1, 2] = 0.6411728443249253\n",
      "\t\t\t\t[2, 0] = 0.05079192958791235\n",
      "\t\t\t\t[2, 1] = 0.6411728443249253\n",
      "\t\t\t\t[2, 5] = 0.30915367280278916\n",
      "\t\t\t\t... skipping 3 entries\n",
      "\t\t\t(MO) 1-Body Terms:\n",
      "\t\t\t\tAlpha\n",
      "\t\t\t\t<(3, 3) matrix with 2 non-zero entries>\n",
      "\t\t\t\t[0, 1] = 0.07483374421730594\n",
      "\t\t\t\t[1, 0] = 0.07483374421730594\n",
      "\t\t\t\tBeta\n",
      "\t\t\t\t<(3, 3) matrix with 2 non-zero entries>\n",
      "\t\t\t\t[0, 1] = 0.07483374421730594\n",
      "\t\t\t\t[1, 0] = 0.07483374421730594\n",
      "\t\t\tEnergy Shifts:\n",
      "\t\t\t\tActiveSpaceTransformer = 0j\n",
      "\t\tDipoleMomentY\n",
      "\t\t\t(AO) 1-Body Terms:\n",
      "\t\t\t\tAlpha\n",
      "\t\t\t\t<(7, 7) matrix with 22 non-zero entries>\n",
      "\t\t\t\t[0, 3] = 0.05079192958791235\n",
      "\t\t\t\t[0, 5] = 0.0032052941540769942\n",
      "\t\t\t\t[0, 6] = -0.0032052941540769942\n",
      "\t\t\t\t[1, 3] = 0.6411728443249253\n",
      "\t\t\t\t[1, 5] = 0.2929228341013192\n",
      "\t\t\t\t... skipping 17 entries\n",
      "\t\t\t\tBeta\n",
      "\t\t\t\t<(7, 7) matrix with 22 non-zero entries>\n",
      "\t\t\t\t[0, 3] = 0.05079192958791235\n",
      "\t\t\t\t[0, 5] = 0.0032052941540769942\n",
      "\t\t\t\t[0, 6] = -0.0032052941540769942\n",
      "\t\t\t\t[1, 3] = 0.6411728443249253\n",
      "\t\t\t\t[1, 5] = 0.2929228341013192\n",
      "\t\t\t\t... skipping 17 entries\n",
      "\t\t\t(MO) 1-Body Terms:\n",
      "\t\t\t\tAlpha\n",
      "\t\t\t\t<(3, 3) matrix with 2 non-zero entries>\n",
      "\t\t\t\t[1, 2] = 1.065718540253565\n",
      "\t\t\t\t[2, 1] = 1.065718540253565\n",
      "\t\t\t\tBeta\n",
      "\t\t\t\t<(3, 3) matrix with 2 non-zero entries>\n",
      "\t\t\t\t[1, 2] = 1.065718540253565\n",
      "\t\t\t\t[2, 1] = 1.065718540253565\n",
      "\t\t\tEnergy Shifts:\n",
      "\t\t\t\tActiveSpaceTransformer = (1.6653345369377348e-16+0j)\n",
      "\t\tDipoleMomentZ\n",
      "\t\t\t(AO) 1-Body Terms:\n",
      "\t\t\t\tAlpha\n",
      "\t\t\t\t<(7, 7) matrix with 31 non-zero entries>\n",
      "\t\t\t\t[0, 0] = 0.21731850432498206\n",
      "\t\t\t\t[0, 1] = 0.051440145450372926\n",
      "\t\t\t\t[0, 4] = 0.05079192958791235\n",
      "\t\t\t\t[0, 5] = 0.009559648381014491\n",
      "\t\t\t\t[0, 6] = 0.009559648381014491\n",
      "\t\t\t\t... skipping 26 entries\n",
      "\t\t\t\tBeta\n",
      "\t\t\t\t<(7, 7) matrix with 31 non-zero entries>\n",
      "\t\t\t\t[0, 0] = 0.21731850432498206\n",
      "\t\t\t\t[0, 1] = 0.051440145450372926\n",
      "\t\t\t\t[0, 4] = 0.05079192958791235\n",
      "\t\t\t\t[0, 5] = 0.009559648381014491\n",
      "\t\t\t\t[0, 6] = 0.009559648381014491\n",
      "\t\t\t\t... skipping 26 entries\n",
      "\t\t\t(MO) 1-Body Terms:\n",
      "\t\t\t\tAlpha\n",
      "\t\t\t\t<(3, 3) matrix with 3 non-zero entries>\n",
      "\t\t\t\t[0, 0] = 0.21731850432498215\n",
      "\t\t\t\t[1, 1] = -0.7371203251701786\n",
      "\t\t\t\t[2, 2] = -0.43588708038902596\n",
      "\t\t\t\tBeta\n",
      "\t\t\t\t<(3, 3) matrix with 3 non-zero entries>\n",
      "\t\t\t\t[0, 0] = 0.21731850432498215\n",
      "\t\t\t\t[1, 1] = -0.7371203251701786\n",
      "\t\t\t\t[2, 2] = -0.43588708038902596\n",
      "\t\t\tEnergy Shifts:\n",
      "\t\t\t\tActiveSpaceTransformer = (0.2505915647862151+0j)\n",
      "\tAngularMomentum:\n",
      "\t\t6 SOs\n",
      "\tMagnetization:\n",
      "\t\t6 SOs\n",
      "Molecule:\n",
      "\tMultiplicity: 1\n",
      "\tCharge: 0\n",
      "\tGeometry:\n",
      "\t\tO\t[0.0, 0.0, 0.21731850432498212]\n",
      "\t\tH\t[0.0, 1.4248534979220566, -0.8673842911753634]\n",
      "\t\tH\t[0.0, -1.4248534979220566, -0.8673842911753634]\n",
      "\tMasses:\n",
      "\t\tO\t16\n",
      "\t\tH\t1\n",
      "\t\tH\t1\n"
     ]
    }
   ],
   "source": [
    "print(problem_reduced.grouped_property_transformed)"
   ]
  },
  {
   "cell_type": "markdown",
   "id": "ff876784",
   "metadata": {
    "slideshow": {
     "slide_type": "slide"
    }
   },
   "source": [
    "## Mapping the Problem to the Qubit Space"
   ]
  },
  {
   "cell_type": "code",
   "execution_count": 12,
   "id": "95abd3df",
   "metadata": {
    "slideshow": {
     "slide_type": "notes"
    }
   },
   "outputs": [],
   "source": [
    "from qiskit_nature.converters.second_quantization import QubitConverter\n",
    "from qiskit_nature.mappers.second_quantization import JordanWignerMapper, ParityMapper"
   ]
  },
  {
   "cell_type": "markdown",
   "id": "ba0f6d1d",
   "metadata": {
    "slideshow": {
     "slide_type": "-"
    }
   },
   "source": [
    "In order to solve our problem with a Quantum algorithm we must map our second-quantized Hamiltonian into a qubit operator. This is done with the `QubitConverter` in combination with a `QubitMapper` of your choice."
   ]
  },
  {
   "cell_type": "markdown",
   "id": "a95e0a68",
   "metadata": {
    "slideshow": {
     "slide_type": "slide"
    }
   },
   "source": [
    "The most straight forward mapping is the *Jordan-Wigner* one which stores the *occupation* information of one spin orbital in one qubit:\n",
    "\n",
    "<img src=\"jw_mapping.png\" width=\"1200\"/>"
   ]
  },
  {
   "cell_type": "code",
   "execution_count": 13,
   "id": "051434ef",
   "metadata": {
    "slideshow": {
     "slide_type": "slide"
    }
   },
   "outputs": [],
   "source": [
    "jw_mapper = JordanWignerMapper()\n",
    "jw_converter = QubitConverter(jw_mapper)"
   ]
  },
  {
   "cell_type": "code",
   "execution_count": 14,
   "id": "26197a8f",
   "metadata": {
    "scrolled": true,
    "slideshow": {
     "slide_type": "-"
    }
   },
   "outputs": [
    {
     "name": "stdout",
     "output_type": "stream",
     "text": [
      "-0.05135743132368864 * IIIIII\n",
      "- 0.480940515477597 * ZIIIII\n",
      "- 0.42585723410847787 * IZIIII\n",
      "+ 0.11275928505376133 * ZZIIII\n",
      "- 0.17628591239111302 * IIZIII\n",
      "+ 0.1505681335893225 * ZIZIII\n",
      "+ 0.13748636180405338 * IZZIII\n",
      "- 0.48094051547759703 * IIIZII\n",
      "+ 0.15537730842446618 * ZIIZII\n",
      "+ 0.14173507851371037 * IZIZII\n",
      "+ 0.156656770354376 * IIZZII\n",
      "- 0.42585723410847776 * IIIIZI\n",
      "+ 0.14173507851371037 * ZIIIZI\n",
      "+ 0.14925817605490319 * IZIIZI\n",
      "+ 0.14721911941224375 * IIZIZI\n",
      "+ 0.11275928505376133 * IIIZZI\n",
      "- 0.17628591239111321 * IIIIIZ\n",
      "+ 0.156656770354376 * ZIIIIZ\n",
      "+ 0.14721911941224375 * IZIIIZ\n",
      "+ 0.2200397733437609 * IIZIIZ\n",
      "+ 0.1505681335893225 * IIIZIZ\n",
      "+ 0.13748636180405338 * IIIIZZ\n",
      "+ 0.028975793459949023 * XXIXXI\n",
      "+ 0.028975793459949023 * YYIXXI\n",
      "+ 0.028975793459949023 * XXIYYI\n",
      "+ 0.028975793459949023 * YYIYYI\n",
      "+ 0.006088636765053485 * XZXXZX\n",
      "+ 0.006088636765053485 * YZYXZX\n",
      "+ 0.006088636765053485 * XZXYZY\n",
      "+ 0.006088636765053485 * YZYYZY\n",
      "+ 0.009732757608190343 * IXXIXX\n",
      "+ 0.009732757608190343 * IYYIXX\n",
      "+ 0.009732757608190343 * IXXIYY\n",
      "+ 0.009732757608190343 * IYYIYY\n"
     ]
    }
   ],
   "source": [
    "qubit_op_jw = jw_converter.convert(hamiltonian_reduced)\n",
    "print(qubit_op_jw)"
   ]
  },
  {
   "cell_type": "markdown",
   "id": "dd01e34a",
   "metadata": {
    "slideshow": {
     "slide_type": "slide"
    }
   },
   "source": [
    "In this step we can reduce the size of our problem further by leveraging symmetries in the Hilbert space of our system. One mapping which supports a straight-forward removal of 2 qubits by exploiting the particle-conserving properties of electronic structure problems, is the *parity* mapping:"
   ]
  },
  {
   "cell_type": "code",
   "execution_count": 15,
   "id": "bb1350ed",
   "metadata": {
    "slideshow": {
     "slide_type": "-"
    }
   },
   "outputs": [],
   "source": [
    "parity_mapper = ParityMapper()\n",
    "parity_converter = QubitConverter(parity_mapper, two_qubit_reduction=True)"
   ]
  },
  {
   "cell_type": "code",
   "execution_count": 16,
   "id": "e229adc9",
   "metadata": {
    "scrolled": true,
    "slideshow": {
     "slide_type": "-"
    }
   },
   "outputs": [
    {
     "name": "stdout",
     "output_type": "stream",
     "text": [
      "-0.051357431323688627 * IIII\n",
      "- 0.6184268772816501 * ZIII\n",
      "+ (0.2890451974448742+1.3877787807814457e-17j) * IZII\n",
      "- 0.5764253676978002 * ZZII\n",
      "+ (0.6184268772816502-2.7755575615628914e-17j) * IIZI\n",
      "- 0.15537730842446612 * ZIZI\n",
      "+ 0.15665677035437595 * IZZI\n",
      "- 0.1417350785137103 * ZZZI\n",
      "+ (-0.28904519744487445-6.938893903907228e-18j) * IIIZ\n",
      "+ 0.15665677035437595 * ZIIZ\n",
      "+ (-0.22003977334376085+1.3877787807814457e-17j) * IZIZ\n",
      "+ 0.1472191194122437 * ZZIZ\n",
      "- 0.5764253676978001 * IIZZ\n",
      "+ 0.1417350785137103 * ZIZZ\n",
      "- 0.1472191194122437 * IZZZ\n",
      "+ 0.14925817605490313 * ZZZZ\n",
      "+ 0.028975793459949013 * XIXI\n",
      "- 0.028975793459949013 * XZXI\n",
      "+ (0.028975793459949013+1.734723475976807e-18j) * XIXZ\n",
      "- 0.028975793459949013 * XZXZ\n",
      "+ 0.00973275760819034 * IXIX\n",
      "+ 0.00973275760819034 * ZXIX\n",
      "- 0.00973275760819034 * IXZX\n",
      "- 0.00973275760819034 * ZXZX\n",
      "+ 0.006088636765053483 * XXXX\n",
      "+ (-0.006088636765053483+4.336808689942018e-19j) * YYXX\n",
      "- 0.006088636765053482 * XXYY\n",
      "+ 0.006088636765053483 * YYYY\n"
     ]
    },
    {
     "name": "stderr",
     "output_type": "stream",
     "text": [
      "/home/oss/Files/Qiskit/src/qiskit-terra/main/qiskit/opflow/primitive_ops/pauli_sum_op.py:227: DeprecationWarning: The SparsePauliOp.table method is deprecated as of Qiskit Terra 0.19.0 and will be removed no sooner than 3 months after the releasedate. Use SparsePauliOp.paulis method instead.\n",
      "  if not np.any(new_self.primitive.table.array):\n"
     ]
    }
   ],
   "source": [
    "qubit_op_parity = parity_converter.convert(hamiltonian_reduced, num_particles=problem_reduced.num_particles)\n",
    "print(qubit_op_parity)"
   ]
  },
  {
   "cell_type": "markdown",
   "id": "730c3df3",
   "metadata": {
    "slideshow": {
     "slide_type": "slide"
    }
   },
   "source": [
    "## Finding the Ground-State Solution"
   ]
  },
  {
   "cell_type": "code",
   "execution_count": 17,
   "id": "5e460b00",
   "metadata": {
    "slideshow": {
     "slide_type": "notes"
    }
   },
   "outputs": [],
   "source": [
    "from qiskit.algorithms.optimizers import SLSQP\n",
    "from qiskit.opflow.expectations import AerPauliExpectation\n",
    "from qiskit.providers.aer import StatevectorSimulator, QasmSimulator\n",
    "from qiskit_nature.algorithms.ground_state_solvers import GroundStateEigensolver\n",
    "from qiskit_nature.algorithms.ground_state_solvers.minimum_eigensolver_factories import VQEUCCFactory"
   ]
  },
  {
   "cell_type": "markdown",
   "id": "8c141545",
   "metadata": {
    "slideshow": {
     "slide_type": "-"
    }
   },
   "source": [
    "Now that we have converted our problem to a Qubit operator, we need to find it's eigenvalue which corresponds to the ground state of our system.\n",
    "\n",
    "<img src=\"H2_gs.png\" width=\"400\"/>"
   ]
  },
  {
   "cell_type": "markdown",
   "id": "0d49d0a9",
   "metadata": {
    "slideshow": {
     "slide_type": "slide"
    }
   },
   "source": [
    "Qiskit Aer provides a variety of simulation backends which we can use instead of an actual quantum computer.\n",
    "\n",
    "One such simulator is the `StatevectorSimulator` which performs an exact simulation of a noiseless quantum computer:"
   ]
  },
  {
   "cell_type": "code",
   "execution_count": 23,
   "id": "988b9bce",
   "metadata": {
    "slideshow": {
     "slide_type": "-"
    }
   },
   "outputs": [],
   "source": [
    "statevector_backend = StatevectorSimulator()"
   ]
  },
  {
   "cell_type": "markdown",
   "id": "0a1eeee9",
   "metadata": {
    "slideshow": {
     "slide_type": "fragment"
    }
   },
   "source": [
    "Another simulator which always contains sampling noise and can even simulate qubit and gate infidelities is the `QasmSimulator`:"
   ]
  },
  {
   "cell_type": "code",
   "execution_count": 24,
   "id": "ecc6da39",
   "metadata": {
    "slideshow": {
     "slide_type": "-"
    }
   },
   "outputs": [],
   "source": [
    "qasm_backend = QasmSimulator()"
   ]
  },
  {
   "cell_type": "markdown",
   "id": "b099a2f4",
   "metadata": {
    "slideshow": {
     "slide_type": "slide"
    }
   },
   "source": [
    "In order to use these backends during our `VQE` we can simply use a factory method which constructs the `VQE` instance for us, like so:"
   ]
  },
  {
   "cell_type": "code",
   "execution_count": 19,
   "id": "88fba522",
   "metadata": {
    "slideshow": {
     "slide_type": "fragment"
    }
   },
   "outputs": [],
   "source": [
    "vqe_factory = VQEUCCFactory(\n",
    "    quantum_instance=statevector_backend,\n",
    "    #quantum_instance=qasm_backend,\n",
    "    optimizer=SLSQP(),\n",
    ")"
   ]
  },
  {
   "cell_type": "markdown",
   "id": "de50af8a",
   "metadata": {
    "slideshow": {
     "slide_type": "slide"
    }
   },
   "source": [
    "This factory can then be used to construct a `GroundStateEigensolver` with which we can finally solve our problem:"
   ]
  },
  {
   "cell_type": "code",
   "execution_count": 20,
   "id": "31ca720b",
   "metadata": {
    "slideshow": {
     "slide_type": "fragment"
    }
   },
   "outputs": [],
   "source": [
    "solver = GroundStateEigensolver(parity_converter, vqe_factory)"
   ]
  },
  {
   "cell_type": "code",
   "execution_count": 21,
   "id": "53609123",
   "metadata": {
    "slideshow": {
     "slide_type": "fragment"
    }
   },
   "outputs": [],
   "source": [
    "result = solver.solve(problem_reduced)"
   ]
  },
  {
   "cell_type": "code",
   "execution_count": 22,
   "id": "ab7b9bdb",
   "metadata": {
    "slideshow": {
     "slide_type": "slide"
    }
   },
   "outputs": [
    {
     "name": "stdout",
     "output_type": "stream",
     "text": [
      "=== GROUND STATE ENERGY ===\n",
      " \n",
      "* Electronic ground state energy (Hartree): -84.248285546104\n",
      "  - computed part:      -1.664149612416\n",
      "  - ActiveSpaceTransformer extracted energy part: -82.584135933688\n",
      "~ Nuclear repulsion energy (Hartree): 9.285714221678\n",
      "> Total ground state energy (Hartree): -74.962571324426\n",
      " \n",
      "=== MEASURED OBSERVABLES ===\n",
      " \n",
      "  0:  # Particles: 2.000 S: 0.000 S^2: 0.000 M: 0.000\n",
      " \n",
      "=== DIPOLE MOMENTS ===\n",
      " \n",
      "~ Nuclear dipole moment (a.u.): [0.0  0.0  0.00377945]\n",
      " \n",
      "  0: \n",
      "  * Electronic dipole moment (a.u.): [0.0  0.0  0.68311967]\n",
      "    - computed part:      [0.0  0.0  0.43252811]\n",
      "    - ActiveSpaceTransformer extracted energy part: [0.0  0.0  0.25059156]\n",
      "  > Dipole moment (a.u.): [0.0  0.0  -0.67934022]  Total: 0.67934022\n",
      "                 (debye): [0.00000001  0.00000001  -1.72671045]  Total: 1.72671045\n",
      " \n"
     ]
    }
   ],
   "source": [
    "print(result)"
   ]
  }
 ],
 "metadata": {
  "celltoolbar": "Slideshow",
  "kernelspec": {
   "display_name": "Python 3",
   "language": "python",
   "name": "python3"
  },
  "language_info": {
   "codemirror_mode": {
    "name": "ipython",
    "version": 3
   },
   "file_extension": ".py",
   "mimetype": "text/x-python",
   "name": "python",
   "nbconvert_exporter": "python",
   "pygments_lexer": "ipython3",
   "version": "3.9.7"
  }
 },
 "nbformat": 4,
 "nbformat_minor": 5
}
